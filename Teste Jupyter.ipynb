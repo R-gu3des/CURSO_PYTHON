{
 "cells": [
  {
   "cell_type": "code",
   "execution_count": null,
   "id": "6db37284",
   "metadata": {},
   "outputs": [],
   "source": []
  },
  {
   "cell_type": "code",
   "execution_count": 3,
   "id": "a6a1fa74",
   "metadata": {},
   "outputs": [],
   "source": [
    "lista = [1,2,3,4,5,6,7,8,9,10]"
   ]
  },
  {
   "cell_type": "code",
   "execution_count": 4,
   "id": "e2b6c6aa",
   "metadata": {},
   "outputs": [
    {
     "data": {
      "text/plain": [
       "[1, 2, 3, 4, 5, 6, 7, 8, 9, 10]"
      ]
     },
     "execution_count": 4,
     "metadata": {},
     "output_type": "execute_result"
    }
   ],
   "source": [
    "lista"
   ]
  },
  {
   "cell_type": "code",
   "execution_count": 8,
   "id": "54a27355",
   "metadata": {},
   "outputs": [],
   "source": [
    "a = 'x'\n",
    "b = 'z'"
   ]
  },
  {
   "cell_type": "code",
   "execution_count": 9,
   "id": "d13ae15f",
   "metadata": {},
   "outputs": [
    {
     "name": "stdout",
     "output_type": "stream",
     "text": [
      "xz\n"
     ]
    }
   ],
   "source": [
    "print(a + b)"
   ]
  },
  {
   "cell_type": "markdown",
   "id": "63cbebbb",
   "metadata": {},
   "source": [
    "# Este é o título\n",
    "texto comum\n",
    "## Subtítulo\n",
    "uma linha\n",
    "\n",
    "* Uma linha\n",
    "* Outra linha\n",
    "* Outra linha\n"
   ]
  },
  {
   "cell_type": "code",
   "execution_count": 10,
   "id": "6d0a06b0",
   "metadata": {},
   "outputs": [
    {
     "data": {
      "text/html": [
       "<p>Um tetxo em <strong>HTML</strong></p>\n"
      ],
      "text/plain": [
       "<IPython.core.display.HTML object>"
      ]
     },
     "metadata": {},
     "output_type": "display_data"
    }
   ],
   "source": [
    "%%HTML\n",
    "<p>Um tetxo em <strong>HTML</strong></p>"
   ]
  },
  {
   "cell_type": "code",
   "execution_count": null,
   "id": "32262e68",
   "metadata": {},
   "outputs": [],
   "source": []
  }
 ],
 "metadata": {
  "kernelspec": {
   "display_name": "Python 3 (ipykernel)",
   "language": "python",
   "name": "python3"
  },
  "language_info": {
   "codemirror_mode": {
    "name": "ipython",
    "version": 3
   },
   "file_extension": ".py",
   "mimetype": "text/x-python",
   "name": "python",
   "nbconvert_exporter": "python",
   "pygments_lexer": "ipython3",
   "version": "3.9.4"
  }
 },
 "nbformat": 4,
 "nbformat_minor": 5
}
